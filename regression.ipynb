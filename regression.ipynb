{
 "cells": [
  {
   "cell_type": "code",
   "execution_count": 1,
   "id": "e59b4b0c",
   "metadata": {
    "scrolled": true
   },
   "outputs": [],
   "source": [
    "# uncomment this if you are missing some packages. Also you can use requirements.txt\n",
    "\n",
    "# import sys\n",
    "# !{sys.executable} -m pip install numpy scikit-learn pandas torch dash plotly ucimlrepo ipywidgets\n",
    "\n",
    "import numpy as np\n",
    "import pandas as pd\n",
    "from tqdm.notebook import tqdm\n",
    "\n",
    "import torch\n",
    "from torch.utils.data import TensorDataset\n",
    "\n",
    "from sklearn.model_selection import LeaveOneOut, KFold\n",
    "from sklearn.model_selection import ParameterGrid\n",
    "\n",
    "# Получаем dataset\n",
    "from ucimlrepo import fetch_ucirepo   \n",
    "servo = fetch_ucirepo(id=87) "
   ]
  },
  {
   "cell_type": "markdown",
   "id": "4e0dec8f",
   "metadata": {},
   "source": [
    "## Выборка: [*Servo Data Set*](https://archive.ics.uci.edu/ml/datasets/Servo)"
   ]
  },
  {
   "cell_type": "markdown",
   "id": "1efeaa0c",
   "metadata": {},
   "source": [
    "Согласно описанию, нужно предсказать rise time сервомеханизма, на основании 4-ых признаков, 2 из них это gain setting, остальные 2 тип механической связи (mechanical linkage). \n",
    "Признаки и цель\n",
    "   1. motor: A,B,C,D,E (categorial)\n",
    "   2. screw: A,B,C,D,E (categorial)\n",
    "   3. pgain: 3,4,5,6 (integer)\n",
    "   4. vgain: 1,2,3,4,5 (integer)\n",
    "   5. class: 0.13 to 7.10 (real)"
   ]
  },
  {
   "cell_type": "code",
   "execution_count": 2,
   "id": "223507da",
   "metadata": {},
   "outputs": [],
   "source": [
    "features = servo.data.features \n",
    "targets = servo.data.targets\n",
    "\n",
    "# df = features + target\n",
    "df = features\n",
    "df['target'] = targets['class']\n",
    "target = ['target']\n"
   ]
  },
  {
   "cell_type": "markdown",
   "id": "edc588bd",
   "metadata": {},
   "source": [
    "Так как _motor_ и _screw_ -- категориальные признаки, конвертируем их в численные. Можем воспользоваться OneHotEncoder-ом из sklearn-a."
   ]
  },
  {
   "cell_type": "code",
   "execution_count": 3,
   "id": "c09d8f14",
   "metadata": {},
   "outputs": [
    {
     "name": "stdout",
     "output_type": "stream",
     "text": [
      "     pgain  vgain    target  motor_A  motor_B  motor_C  motor_D  motor_E  \\\n",
      "0        5      4  0.281251      0.0      0.0      0.0      0.0      1.0   \n",
      "1        6      5  0.506252      0.0      1.0      0.0      0.0      0.0   \n",
      "2        4      3  0.356251      0.0      0.0      0.0      1.0      0.0   \n",
      "3        3      2  5.500033      0.0      1.0      0.0      0.0      0.0   \n",
      "4        6      5  0.356251      0.0      0.0      0.0      1.0      0.0   \n",
      "..     ...    ...       ...      ...      ...      ...      ...      ...   \n",
      "162      3      2  4.499986      0.0      1.0      0.0      0.0      0.0   \n",
      "163      3      1  3.699967      0.0      1.0      0.0      0.0      0.0   \n",
      "164      4      3  0.956256      0.0      0.0      1.0      0.0      0.0   \n",
      "165      3      2  4.499986      1.0      0.0      0.0      0.0      0.0   \n",
      "166      6      5  0.806255      1.0      0.0      0.0      0.0      0.0   \n",
      "\n",
      "     screw_A  screw_B  screw_C  screw_D  screw_E  \n",
      "0        0.0      0.0      0.0      0.0      1.0  \n",
      "1        0.0      0.0      0.0      1.0      0.0  \n",
      "2        0.0      0.0      0.0      1.0      0.0  \n",
      "3        1.0      0.0      0.0      0.0      0.0  \n",
      "4        0.0      1.0      0.0      0.0      0.0  \n",
      "..       ...      ...      ...      ...      ...  \n",
      "162      0.0      0.0      1.0      0.0      0.0  \n",
      "163      0.0      0.0      0.0      0.0      1.0  \n",
      "164      0.0      0.0      0.0      1.0      0.0  \n",
      "165      0.0      1.0      0.0      0.0      0.0  \n",
      "166      1.0      0.0      0.0      0.0      0.0  \n",
      "\n",
      "[167 rows x 13 columns]\n"
     ]
    }
   ],
   "source": [
    "from sklearn.preprocessing import OneHotEncoder\n",
    "\n",
    "categorical_columns = ['motor', 'screw']\n",
    "\n",
    "#Initialize OneHotEncoder\n",
    "encoder = OneHotEncoder(sparse_output=False)\n",
    "\n",
    "# Apply one-hot encoding to the categorical columns\n",
    "one_hot_encoded = encoder.fit_transform(df[categorical_columns])\n",
    "\n",
    "#Create a DataFrame with the one-hot encoded columns\n",
    "#We use get_feature_names_out() to get the column names for the encoded data\n",
    "one_hot_df = pd.DataFrame(one_hot_encoded, columns=encoder.get_feature_names_out(categorical_columns))\n",
    "\n",
    "# Concatenate the one-hot encoded dataframe with the original dataframe\n",
    "df_encoded = pd.concat([df, one_hot_df], axis=1)\n",
    "\n",
    "# Drop the original categorical columns\n",
    "df_encoded = df_encoded.drop(categorical_columns, axis=1)\n",
    "print(df_encoded)"
   ]
  },
  {
   "cell_type": "markdown",
   "id": "b96ece3f",
   "metadata": {},
   "source": [
    "## Визуализация выборки"
   ]
  },
  {
   "cell_type": "code",
   "execution_count": 4,
   "id": "39a40ace",
   "metadata": {},
   "outputs": [
    {
     "data": {
      "text/html": [
       "\n",
       "        <iframe\n",
       "            width=\"100%\"\n",
       "            height=\"650\"\n",
       "            src=\"http://127.0.0.1:8050/\"\n",
       "            frameborder=\"0\"\n",
       "            allowfullscreen\n",
       "            \n",
       "        ></iframe>\n",
       "        "
      ],
      "text/plain": [
       "<IPython.lib.display.IFrame at 0x7f08990f7090>"
      ]
     },
     "metadata": {},
     "output_type": "display_data"
    }
   ],
   "source": [
    "from dash import Dash, dcc, html, Input, Output\n",
    "import plotly.express as px\n",
    "from plotly.subplots import make_subplots\n",
    "\n",
    "\n",
    "def extractMotor(motor_id):\n",
    "    motor_id_df = df.loc[df['motor'] == motor_id] \n",
    "    return motor_id_df.drop(['motor'], axis=1)\n",
    "\n",
    "app = Dash(__name__)\n",
    "\n",
    "def setLayouts():\n",
    "    layout_list = []\n",
    "    for motor_id in ['A', 'B', 'C', 'D', 'E']:\n",
    "        layout_list.append(html.Div([\n",
    "        html.H4('motor ' + motor_id),\n",
    "        dcc.Graph(id=\"graph\" + motor_id),\n",
    "        html.P(\"Target:\"),\n",
    "        dcc.RangeSlider(\n",
    "            id='range-slider' + motor_id,\n",
    "            min=0.13, max=7.10, step=0.25,\n",
    "            marks={0.13: '0.13', 7.10: '7.10'},\n",
    "            value=[0.13, 7.10]\n",
    "        ),\n",
    "        ]))\n",
    "    return html.Div(layout_list)\n",
    "\n",
    "# Немного криво, но прописывать 5 callback-oв ещё хуже\n",
    "def genCallback(motor_id):\n",
    "    callback_gen =  '''\n",
    "@app.callback(\n",
    "    Output(\"graph__MOTOR_ID__\", \"figure\"),\n",
    "    Input(\"range-slider__MOTOR_ID__\", \"value\"))\n",
    "def updateBarChart__MOTOR_ID__(slider_range):\n",
    "    low, high = slider_range\n",
    "    mask = (df.target > low) & (df.target < high)\n",
    "    fig = px.scatter_3d(extractMotor('__MOTOR_ID__').loc[mask], \n",
    "                        x='pgain', y='vgain', z='target', color='screw',\n",
    "                        color_discrete_map={\n",
    "                            \"A\": \"red\",\n",
    "                            \"B\": \"green\",\n",
    "                            \"C\": \"blue\",\n",
    "                            \"D\": \"goldenrod\",\n",
    "                            \"E\": \"magenta\"}\n",
    "                       )\n",
    "    return fig\n",
    "    '''\n",
    "    callback_gen = callback_gen.replace('__MOTOR_ID__', motor_id)\n",
    "    exec(callback_gen)\n",
    "    \n",
    "def setCallbacks():\n",
    "    for motor_id in ['A', 'B', 'C', 'D', 'E']:\n",
    "        genCallback(motor_id)\n",
    "\n",
    "app.layout = setLayouts()\n",
    "setCallbacks()\n",
    "    \n",
    "app.run_server(debug=True, use_reloader=False)"
   ]
  },
  {
   "cell_type": "markdown",
   "id": "6fde45aa",
   "metadata": {},
   "source": [
    "Изменяя ручку target можно сделать много выводов:\n",
    "- В выборке нет \"наложения\" точек (нет вырождения)\n",
    "- Много точки выборки не определены (pgain и vgain принимают значения не из всего диапазона для конкретного motor/screw)\n",
    "- Почти всегда screw A дает значение target больше чем остальные \n",
    "- Для одинакового pgain, vgain данные \"скачут\" в зависимости от screw, что намекает на нелинейность\n",
    "- БОльшая часть target-a лежит от 0.13 до 2 (визуально явно больше половины)"
   ]
  },
  {
   "cell_type": "markdown",
   "id": "f2fe5945",
   "metadata": {},
   "source": [
    "## Линейная регрессия"
   ]
  },
  {
   "cell_type": "markdown",
   "id": "5bdf0911",
   "metadata": {},
   "source": [
    "Убедимся экспериментально, что линейная регрессия для данной выборки плохо подходит"
   ]
  },
  {
   "cell_type": "code",
   "execution_count": 5,
   "id": "4e211839",
   "metadata": {},
   "outputs": [
    {
     "name": "stdout",
     "output_type": "stream",
     "text": [
      "r2_score=0.5240160004452085\n"
     ]
    }
   ],
   "source": [
    "import torch\n",
    "from torch.autograd import Variable\n",
    "from sklearn.metrics import r2_score\n",
    "\n",
    "features = ['pgain', 'vgain', \n",
    "            'motor_A', 'motor_B', 'motor_C', 'motor_D', 'motor_E',\n",
    "            'screw_A', 'screw_B', 'screw_C', 'screw_D', 'screw_E']\n",
    "X = Variable(torch.tensor(df_encoded[features].values))\n",
    "y = Variable(torch.tensor(df_encoded[target].values))\n",
    "\n",
    "class TorchLinearRegression(torch.nn.Module):\n",
    "    def __init__(self, input_dim, output_dim):\n",
    "        super(TorchLinearRegression, self).__init__()\n",
    "        # perform X * w\n",
    "        self.linear = torch.nn.Linear(input_dim, output_dim, dtype=torch.float64, bias=False)\n",
    "        torch.nn.init.xavier_uniform_(self.linear.weight)\n",
    " \n",
    "    def forward(self, x: torch.Tensor) -> torch.Tensor:\n",
    "        y_pred = self.linear(x)\n",
    "        return y_pred    \n",
    "\n",
    "torch_model = TorchLinearRegression(len(features), len(target))\n",
    " \n",
    "loss_fn = torch.nn.MSELoss()\n",
    "optimizer = torch.optim.SGD(torch_model.parameters(), lr = 0.01)\n",
    " \n",
    "for epoch in range(5000):\n",
    "    # Forward pass\n",
    "    pred_y = torch_model(X)\n",
    " \n",
    "    # Compute loss\n",
    "    loss = loss_fn(pred_y, y)\n",
    "    # Zero gradients, perform a backward pass, \n",
    "    # and update the weights.\n",
    "    optimizer.zero_grad()\n",
    "    loss.backward()\n",
    "    optimizer.step()\n",
    "\n",
    "y_pred = torch_model(X)\n",
    "\n",
    "print(f'r2_score={r2_score(y.detach().numpy(), y_pred.detach().numpy())}')"
   ]
  },
  {
   "cell_type": "markdown",
   "id": "82d3720c",
   "metadata": {},
   "source": [
    "R2 score низкий, и требуется много итераций для обучения, линейная модель плохо справляется с данным датасетом"
   ]
  },
  {
   "cell_type": "markdown",
   "id": "9225c410",
   "metadata": {},
   "source": [
    "## Перцептрон"
   ]
  },
  {
   "cell_type": "markdown",
   "id": "efe66cdf-6aad-4c36-8527-d99094f64f87",
   "metadata": {},
   "source": [
    "Создадим класс Perceptron аналогично как на семинаре"
   ]
  },
  {
   "cell_type": "code",
   "execution_count": 6,
   "id": "9f47f974",
   "metadata": {},
   "outputs": [],
   "source": [
    "class Perceptron(torch.nn.Module):\n",
    "    @property\n",
    "    def device(self):\n",
    "        for p in self.parameters():\n",
    "            return p.device\n",
    "\n",
    "    def __init__(self, input_dim, output_dim, num_layers=0, \n",
    "                 hidden_dim=64, p=0.0):\n",
    "        super(Perceptron, self).__init__()\n",
    "        \n",
    "        self.layers = torch.nn.Sequential()\n",
    "        \n",
    "        prev_size = input_dim\n",
    "        for i in range(num_layers):\n",
    "            self.layers.add_module('layer{}'.format(i), \n",
    "                                  torch.nn.Linear(prev_size, hidden_dim, dtype=torch.float64))\n",
    "            self.layers.add_module('relu{}'.format(i), torch.nn.ReLU())\n",
    "            self.layers.add_module('dropout{}'.format(i), torch.nn.Dropout(p=p))\n",
    "            prev_size = hidden_dim\n",
    "        \n",
    "        self.layers.add_module('classifier', \n",
    "                               torch.nn.Linear(prev_size, output_dim, dtype=torch.float64))        \n",
    "        \n",
    "    def forward(self, input):\n",
    "        return self.layers(input)"
   ]
  },
  {
   "cell_type": "code",
   "execution_count": 7,
   "id": "e1b89fe6",
   "metadata": {},
   "outputs": [],
   "source": [
    "def testing(model, dataset):\n",
    "    generator = torch.utils.data.DataLoader(dataset, batch_size=64)\n",
    "\n",
    "    pred = []\n",
    "    real = []\n",
    "    for x, y in generator:\n",
    "        \n",
    "        y_pred = model(x)\n",
    "        pred.extend(y_pred.detach().squeeze().numpy().tolist())\n",
    "        real.extend(y.detach().numpy().tolist())\n",
    "\n",
    "    return np.array(real), np.array(pred)\n",
    "\n",
    "def trainer(model, dataset, loss_function, optimizer, epochs):\n",
    "    for epoch in range(epochs):\n",
    "        generator = torch.utils.data.DataLoader(dataset, batch_size=64, \n",
    "                                              shuffle=True)\n",
    "        for x, y in generator:\n",
    "            optimizer.zero_grad()\n",
    "\n",
    "            output = model(x)\n",
    "            loss = loss_function(output, y)\n",
    "            loss.backward()\n",
    "            optimizer.step()"
   ]
  },
  {
   "cell_type": "markdown",
   "id": "4cae4ada-e712-4d80-a0a4-84fe0cec44f3",
   "metadata": {},
   "source": [
    "Подбор гиперпараметров (num_layers, hidden_dim, p):"
   ]
  },
  {
   "cell_type": "code",
   "execution_count": 8,
   "id": "9f016daa",
   "metadata": {},
   "outputs": [
    {
     "data": {
      "application/vnd.jupyter.widget-view+json": {
       "model_id": "02d41a5e5b84411c85261015b0fc25c2",
       "version_major": 2,
       "version_minor": 0
      },
      "text/plain": [
       "  0%|          | 0/8 [00:00<?, ?it/s]"
      ]
     },
     "metadata": {},
     "output_type": "display_data"
    },
    {
     "data": {
      "application/vnd.jupyter.widget-view+json": {
       "model_id": "",
       "version_major": 2,
       "version_minor": 0
      },
      "text/plain": [
       "  0%|          | 0/3 [00:00<?, ?it/s]"
      ]
     },
     "metadata": {},
     "output_type": "display_data"
    },
    {
     "data": {
      "application/vnd.jupyter.widget-view+json": {
       "model_id": "",
       "version_major": 2,
       "version_minor": 0
      },
      "text/plain": [
       "  0%|          | 0/3 [00:00<?, ?it/s]"
      ]
     },
     "metadata": {},
     "output_type": "display_data"
    },
    {
     "data": {
      "application/vnd.jupyter.widget-view+json": {
       "model_id": "",
       "version_major": 2,
       "version_minor": 0
      },
      "text/plain": [
       "  0%|          | 0/3 [00:00<?, ?it/s]"
      ]
     },
     "metadata": {},
     "output_type": "display_data"
    },
    {
     "data": {
      "application/vnd.jupyter.widget-view+json": {
       "model_id": "",
       "version_major": 2,
       "version_minor": 0
      },
      "text/plain": [
       "  0%|          | 0/3 [00:00<?, ?it/s]"
      ]
     },
     "metadata": {},
     "output_type": "display_data"
    },
    {
     "data": {
      "application/vnd.jupyter.widget-view+json": {
       "model_id": "",
       "version_major": 2,
       "version_minor": 0
      },
      "text/plain": [
       "  0%|          | 0/3 [00:00<?, ?it/s]"
      ]
     },
     "metadata": {},
     "output_type": "display_data"
    },
    {
     "data": {
      "application/vnd.jupyter.widget-view+json": {
       "model_id": "",
       "version_major": 2,
       "version_minor": 0
      },
      "text/plain": [
       "  0%|          | 0/3 [00:00<?, ?it/s]"
      ]
     },
     "metadata": {},
     "output_type": "display_data"
    },
    {
     "data": {
      "application/vnd.jupyter.widget-view+json": {
       "model_id": "",
       "version_major": 2,
       "version_minor": 0
      },
      "text/plain": [
       "  0%|          | 0/3 [00:00<?, ?it/s]"
      ]
     },
     "metadata": {},
     "output_type": "display_data"
    },
    {
     "data": {
      "application/vnd.jupyter.widget-view+json": {
       "model_id": "",
       "version_major": 2,
       "version_minor": 0
      },
      "text/plain": [
       "  0%|          | 0/3 [00:00<?, ?it/s]"
      ]
     },
     "metadata": {},
     "output_type": "display_data"
    },
    {
     "name": "stdout",
     "output_type": "stream",
     "text": [
      "+------------------------------------------------------------+-----------+\n",
      "|                                                            |   R2_SCORE|\n",
      "+------------------------------------------------------------+-----------+\n",
      "|   {'hidden_dim': 8, 'lr': 0.001, 'num_layers': 2, 'p': 0.0}|       0.74|\n",
      "+------------------------------------------------------------+-----------+\n",
      "|   {'hidden_dim': 8, 'lr': 0.001, 'num_layers': 2, 'p': 0.1}|       0.93|\n",
      "+------------------------------------------------------------+-----------+\n",
      "|   {'hidden_dim': 8, 'lr': 0.001, 'num_layers': 4, 'p': 0.0}|       0.88|\n",
      "+------------------------------------------------------------+-----------+\n",
      "|   {'hidden_dim': 8, 'lr': 0.001, 'num_layers': 4, 'p': 0.1}|       0.93|\n",
      "+------------------------------------------------------------+-----------+\n",
      "|  {'hidden_dim': 64, 'lr': 0.001, 'num_layers': 2, 'p': 0.0}|       0.95|\n",
      "+------------------------------------------------------------+-----------+\n",
      "|  {'hidden_dim': 64, 'lr': 0.001, 'num_layers': 2, 'p': 0.1}|       0.94|\n",
      "+------------------------------------------------------------+-----------+\n",
      "|  {'hidden_dim': 64, 'lr': 0.001, 'num_layers': 4, 'p': 0.0}|       0.93|\n",
      "+------------------------------------------------------------+-----------+\n",
      "|  {'hidden_dim': 64, 'lr': 0.001, 'num_layers': 4, 'p': 0.1}|       0.94|\n",
      "+------------------------------------------------------------+-----------+\n"
     ]
    }
   ],
   "source": [
    "# Немного измененный код из семинара 2\n",
    "# Там была задача классификации, здесь регрессия, поэтому функция потерь это MSE\n",
    "\n",
    "def draw_table(data, title=['R2_SCORE'], width=[60, 11]):    \n",
    "    row_format = '|' + '|'.join([(\"{:>\" + str(w) + \"}\") for w in width]) + '|'\n",
    "    row_format_bet = '+' + '+'.join([(\"{:>\" + str(w) + \"}\") for w in width]) + '+'\n",
    "    \n",
    "    print(row_format_bet.format(\n",
    "        \"-\" * width[0], *[\"-\" * width[i + 1] for i, _ in enumerate(title)]))\n",
    "    print(row_format.format(\"\", *title))\n",
    "    print(row_format_bet.format(\n",
    "        \"-\" * width[0], *[\"-\" * width[i + 1] for i, _ in enumerate(title)]))\n",
    "    for key in data:\n",
    "        if len(key) > width[0]:\n",
    "            row_name = '...' + key[len(key)-width[0]+3:]\n",
    "        else:\n",
    "            row_name = key\n",
    "        print(row_format.format(row_name, *[round(x, 2) for x in data[key]]))\n",
    "        print(row_format_bet.format(\n",
    "            \"-\" * width[0], *[\"-\" * width[i + 1] for i, _ in enumerate(title)]))\n",
    "\n",
    "cross_val = KFold(3)\n",
    "number_of_batch = cross_val.get_n_splits()\n",
    "\n",
    "grid = ParameterGrid({'num_layers': [2, 4], \n",
    "                      'hidden_dim': [8, 64],\n",
    "                      'p': [0.0, 0.1],\n",
    "                      'lr': [0.001]})\n",
    "\n",
    "scores = dict()\n",
    "for item in tqdm(grid):\n",
    "    list_of_scores = []\n",
    "    for train_index, test_index in tqdm(cross_val.split(X), \n",
    "                                        total=number_of_batch, leave=False):\n",
    "        x_train_fold = X[train_index]\n",
    "        x_test_fold = X[test_index]\n",
    "        y_train_fold = y[train_index]\n",
    "        y_test_fold = y[test_index]\n",
    "\n",
    "        traindata = torch.utils.data.TensorDataset(x_train_fold, y_train_fold)\n",
    "        testdata = torch.utils.data.TensorDataset(x_test_fold, y_test_fold)\n",
    "\n",
    "        model = Perceptron(input_dim=len(features), output_dim=len(target), num_layers=item['num_layers'], p=item['p'],\n",
    "                           hidden_dim=item['hidden_dim'])\n",
    "        _ = model.train()\n",
    "        trainer(model=model, \n",
    "                dataset=traindata, \n",
    "                loss_function=torch.nn.MSELoss(), \n",
    "                optimizer=torch.optim.Adam(model.parameters(), lr=item['lr']), \n",
    "                epochs=1000)\n",
    "        \n",
    "        _ = model.eval()\n",
    "        _, y_pred_fold = testing(model, testdata)\n",
    "        score = r2_score(y_test_fold, y_pred_fold)\n",
    "        list_of_scores.append(score)\n",
    "        \n",
    "    scores[str(item)] = [np.mean(score_list) for score_list in list_of_scores]\n",
    "draw_table(scores)\n"
   ]
  },
  {
   "cell_type": "markdown",
   "id": "74e441d6-6bc8-44c4-b11e-a91a25080d6f",
   "metadata": {},
   "source": [
    "Обучим \"сильнее\" персептрон с лучшими гиперпараметрами"
   ]
  },
  {
   "cell_type": "code",
   "execution_count": 9,
   "id": "ee5f627b",
   "metadata": {},
   "outputs": [
    {
     "name": "stdout",
     "output_type": "stream",
     "text": [
      "r2_score=0.989684932087016\n"
     ]
    }
   ],
   "source": [
    "# Создание dataset-a\n",
    "X = torch.tensor(df_encoded[features].values)\n",
    "y = torch.tensor(df_encoded[target].values)\n",
    "dset = torch.utils.data.TensorDataset(X, y)\n",
    "\n",
    "\n",
    "# Параметры \"лучшего\" перцептрона\n",
    "num_layers=4\n",
    "hidden_dim=8\n",
    "p=0.0\n",
    "lr=0.001\n",
    "\n",
    "model = Perceptron(input_dim=len(features),output_dim=len(target), num_layers=num_layers, hidden_dim=hidden_dim, p=p)\n",
    "\n",
    "trainer(model=model,\n",
    "        dataset=dset,\n",
    "        loss_function=torch.nn.MSELoss(),\n",
    "        optimizer=torch.optim.Adam(model.parameters(), lr=lr),\n",
    "        epochs=5000)\n",
    "\n",
    "y_pred = model.forward(X)\n",
    "print(f'r2_score={r2_score(y.detach().numpy(), y_pred.detach().numpy())}')\n"
   ]
  },
  {
   "cell_type": "markdown",
   "id": "3d54276a-b247-4502-ae86-0cba2a1f8158",
   "metadata": {},
   "source": [
    "Как видно персептрон за такое же количество итераций справляется лучше, чем линейная регрессия"
   ]
  },
  {
   "cell_type": "markdown",
   "id": "1498103a",
   "metadata": {},
   "source": [
    "## SVR"
   ]
  },
  {
   "cell_type": "markdown",
   "id": "ac6aba2d",
   "metadata": {},
   "source": [
    "Воспользуемся методом опорных векторов для регрессии (Support Vector Regression)."
   ]
  },
  {
   "cell_type": "code",
   "execution_count": 10,
   "id": "e59eefc5",
   "metadata": {},
   "outputs": [],
   "source": [
    "from sklearn.svm import SVR"
   ]
  },
  {
   "cell_type": "code",
   "execution_count": 11,
   "id": "d7e8542a",
   "metadata": {},
   "outputs": [],
   "source": [
    "X = torch.tensor(df_encoded[features].values)\n",
    "y = torch.tensor(df_encoded[target].values)"
   ]
  },
  {
   "cell_type": "code",
   "execution_count": 12,
   "id": "855b7d4b",
   "metadata": {},
   "outputs": [
    {
     "data": {
      "application/vnd.jupyter.widget-view+json": {
       "model_id": "02d5220b48b54e7e90bc2c1ae41fc6ae",
       "version_major": 2,
       "version_minor": 0
      },
      "text/plain": [
       "  0%|          | 0/24 [00:00<?, ?it/s]"
      ]
     },
     "metadata": {},
     "output_type": "display_data"
    },
    {
     "data": {
      "application/vnd.jupyter.widget-view+json": {
       "model_id": "",
       "version_major": 2,
       "version_minor": 0
      },
      "text/plain": [
       "  0%|          | 0/3 [00:00<?, ?it/s]"
      ]
     },
     "metadata": {},
     "output_type": "display_data"
    },
    {
     "data": {
      "application/vnd.jupyter.widget-view+json": {
       "model_id": "",
       "version_major": 2,
       "version_minor": 0
      },
      "text/plain": [
       "  0%|          | 0/3 [00:00<?, ?it/s]"
      ]
     },
     "metadata": {},
     "output_type": "display_data"
    },
    {
     "data": {
      "application/vnd.jupyter.widget-view+json": {
       "model_id": "",
       "version_major": 2,
       "version_minor": 0
      },
      "text/plain": [
       "  0%|          | 0/3 [00:00<?, ?it/s]"
      ]
     },
     "metadata": {},
     "output_type": "display_data"
    },
    {
     "data": {
      "application/vnd.jupyter.widget-view+json": {
       "model_id": "",
       "version_major": 2,
       "version_minor": 0
      },
      "text/plain": [
       "  0%|          | 0/3 [00:00<?, ?it/s]"
      ]
     },
     "metadata": {},
     "output_type": "display_data"
    },
    {
     "data": {
      "application/vnd.jupyter.widget-view+json": {
       "model_id": "",
       "version_major": 2,
       "version_minor": 0
      },
      "text/plain": [
       "  0%|          | 0/3 [00:00<?, ?it/s]"
      ]
     },
     "metadata": {},
     "output_type": "display_data"
    },
    {
     "data": {
      "application/vnd.jupyter.widget-view+json": {
       "model_id": "",
       "version_major": 2,
       "version_minor": 0
      },
      "text/plain": [
       "  0%|          | 0/3 [00:00<?, ?it/s]"
      ]
     },
     "metadata": {},
     "output_type": "display_data"
    },
    {
     "data": {
      "application/vnd.jupyter.widget-view+json": {
       "model_id": "",
       "version_major": 2,
       "version_minor": 0
      },
      "text/plain": [
       "  0%|          | 0/3 [00:00<?, ?it/s]"
      ]
     },
     "metadata": {},
     "output_type": "display_data"
    },
    {
     "data": {
      "application/vnd.jupyter.widget-view+json": {
       "model_id": "",
       "version_major": 2,
       "version_minor": 0
      },
      "text/plain": [
       "  0%|          | 0/3 [00:00<?, ?it/s]"
      ]
     },
     "metadata": {},
     "output_type": "display_data"
    },
    {
     "data": {
      "application/vnd.jupyter.widget-view+json": {
       "model_id": "",
       "version_major": 2,
       "version_minor": 0
      },
      "text/plain": [
       "  0%|          | 0/3 [00:00<?, ?it/s]"
      ]
     },
     "metadata": {},
     "output_type": "display_data"
    },
    {
     "data": {
      "application/vnd.jupyter.widget-view+json": {
       "model_id": "",
       "version_major": 2,
       "version_minor": 0
      },
      "text/plain": [
       "  0%|          | 0/3 [00:00<?, ?it/s]"
      ]
     },
     "metadata": {},
     "output_type": "display_data"
    },
    {
     "data": {
      "application/vnd.jupyter.widget-view+json": {
       "model_id": "",
       "version_major": 2,
       "version_minor": 0
      },
      "text/plain": [
       "  0%|          | 0/3 [00:00<?, ?it/s]"
      ]
     },
     "metadata": {},
     "output_type": "display_data"
    },
    {
     "data": {
      "application/vnd.jupyter.widget-view+json": {
       "model_id": "",
       "version_major": 2,
       "version_minor": 0
      },
      "text/plain": [
       "  0%|          | 0/3 [00:00<?, ?it/s]"
      ]
     },
     "metadata": {},
     "output_type": "display_data"
    },
    {
     "data": {
      "application/vnd.jupyter.widget-view+json": {
       "model_id": "",
       "version_major": 2,
       "version_minor": 0
      },
      "text/plain": [
       "  0%|          | 0/3 [00:00<?, ?it/s]"
      ]
     },
     "metadata": {},
     "output_type": "display_data"
    },
    {
     "data": {
      "application/vnd.jupyter.widget-view+json": {
       "model_id": "",
       "version_major": 2,
       "version_minor": 0
      },
      "text/plain": [
       "  0%|          | 0/3 [00:00<?, ?it/s]"
      ]
     },
     "metadata": {},
     "output_type": "display_data"
    },
    {
     "data": {
      "application/vnd.jupyter.widget-view+json": {
       "model_id": "",
       "version_major": 2,
       "version_minor": 0
      },
      "text/plain": [
       "  0%|          | 0/3 [00:00<?, ?it/s]"
      ]
     },
     "metadata": {},
     "output_type": "display_data"
    },
    {
     "data": {
      "application/vnd.jupyter.widget-view+json": {
       "model_id": "",
       "version_major": 2,
       "version_minor": 0
      },
      "text/plain": [
       "  0%|          | 0/3 [00:00<?, ?it/s]"
      ]
     },
     "metadata": {},
     "output_type": "display_data"
    },
    {
     "data": {
      "application/vnd.jupyter.widget-view+json": {
       "model_id": "",
       "version_major": 2,
       "version_minor": 0
      },
      "text/plain": [
       "  0%|          | 0/3 [00:00<?, ?it/s]"
      ]
     },
     "metadata": {},
     "output_type": "display_data"
    },
    {
     "data": {
      "application/vnd.jupyter.widget-view+json": {
       "model_id": "",
       "version_major": 2,
       "version_minor": 0
      },
      "text/plain": [
       "  0%|          | 0/3 [00:00<?, ?it/s]"
      ]
     },
     "metadata": {},
     "output_type": "display_data"
    },
    {
     "data": {
      "application/vnd.jupyter.widget-view+json": {
       "model_id": "",
       "version_major": 2,
       "version_minor": 0
      },
      "text/plain": [
       "  0%|          | 0/3 [00:00<?, ?it/s]"
      ]
     },
     "metadata": {},
     "output_type": "display_data"
    },
    {
     "data": {
      "application/vnd.jupyter.widget-view+json": {
       "model_id": "",
       "version_major": 2,
       "version_minor": 0
      },
      "text/plain": [
       "  0%|          | 0/3 [00:00<?, ?it/s]"
      ]
     },
     "metadata": {},
     "output_type": "display_data"
    },
    {
     "data": {
      "application/vnd.jupyter.widget-view+json": {
       "model_id": "",
       "version_major": 2,
       "version_minor": 0
      },
      "text/plain": [
       "  0%|          | 0/3 [00:00<?, ?it/s]"
      ]
     },
     "metadata": {},
     "output_type": "display_data"
    },
    {
     "data": {
      "application/vnd.jupyter.widget-view+json": {
       "model_id": "",
       "version_major": 2,
       "version_minor": 0
      },
      "text/plain": [
       "  0%|          | 0/3 [00:00<?, ?it/s]"
      ]
     },
     "metadata": {},
     "output_type": "display_data"
    },
    {
     "data": {
      "application/vnd.jupyter.widget-view+json": {
       "model_id": "",
       "version_major": 2,
       "version_minor": 0
      },
      "text/plain": [
       "  0%|          | 0/3 [00:00<?, ?it/s]"
      ]
     },
     "metadata": {},
     "output_type": "display_data"
    },
    {
     "data": {
      "application/vnd.jupyter.widget-view+json": {
       "model_id": "",
       "version_major": 2,
       "version_minor": 0
      },
      "text/plain": [
       "  0%|          | 0/3 [00:00<?, ?it/s]"
      ]
     },
     "metadata": {},
     "output_type": "display_data"
    },
    {
     "name": "stdout",
     "output_type": "stream",
     "text": [
      "+------------------------------------------------------------+-----------+\n",
      "|                                                            |   R2_SCORE|\n",
      "+------------------------------------------------------------+-----------+\n",
      "|          {'C': 0.001, 'epsilon': 0.001, 'kernel': 'linear'}|      -0.06|\n",
      "+------------------------------------------------------------+-----------+\n",
      "|            {'C': 0.001, 'epsilon': 0.001, 'kernel': 'poly'}|      -0.07|\n",
      "+------------------------------------------------------------+-----------+\n",
      "|             {'C': 0.001, 'epsilon': 0.001, 'kernel': 'rbf'}|       -0.1|\n",
      "+------------------------------------------------------------+-----------+\n",
      "|            {'C': 0.001, 'epsilon': 0.1, 'kernel': 'linear'}|      -0.05|\n",
      "+------------------------------------------------------------+-----------+\n",
      "|              {'C': 0.001, 'epsilon': 0.1, 'kernel': 'poly'}|      -0.08|\n",
      "+------------------------------------------------------------+-----------+\n",
      "|               {'C': 0.001, 'epsilon': 0.1, 'kernel': 'rbf'}|      -0.12|\n",
      "+------------------------------------------------------------+-----------+\n",
      "|            {'C': 0.1, 'epsilon': 0.001, 'kernel': 'linear'}|       0.25|\n",
      "+------------------------------------------------------------+-----------+\n",
      "|              {'C': 0.1, 'epsilon': 0.001, 'kernel': 'poly'}|       0.06|\n",
      "+------------------------------------------------------------+-----------+\n",
      "|               {'C': 0.1, 'epsilon': 0.001, 'kernel': 'rbf'}|       0.12|\n",
      "+------------------------------------------------------------+-----------+\n",
      "|              {'C': 0.1, 'epsilon': 0.1, 'kernel': 'linear'}|       0.24|\n",
      "+------------------------------------------------------------+-----------+\n",
      "|                {'C': 0.1, 'epsilon': 0.1, 'kernel': 'poly'}|       0.07|\n",
      "+------------------------------------------------------------+-----------+\n",
      "|                 {'C': 0.1, 'epsilon': 0.1, 'kernel': 'rbf'}|        0.1|\n",
      "+------------------------------------------------------------+-----------+\n",
      "|           {'C': 10.0, 'epsilon': 0.001, 'kernel': 'linear'}|       0.35|\n",
      "+------------------------------------------------------------+-----------+\n",
      "|             {'C': 10.0, 'epsilon': 0.001, 'kernel': 'poly'}|        0.3|\n",
      "+------------------------------------------------------------+-----------+\n",
      "|              {'C': 10.0, 'epsilon': 0.001, 'kernel': 'rbf'}|       0.78|\n",
      "+------------------------------------------------------------+-----------+\n",
      "|             {'C': 10.0, 'epsilon': 0.1, 'kernel': 'linear'}|       0.36|\n",
      "+------------------------------------------------------------+-----------+\n",
      "|               {'C': 10.0, 'epsilon': 0.1, 'kernel': 'poly'}|       0.31|\n",
      "+------------------------------------------------------------+-----------+\n",
      "|                {'C': 10.0, 'epsilon': 0.1, 'kernel': 'rbf'}|       0.79|\n",
      "+------------------------------------------------------------+-----------+\n",
      "|         {'C': 1000.0, 'epsilon': 0.001, 'kernel': 'linear'}|       0.35|\n",
      "+------------------------------------------------------------+-----------+\n",
      "|           {'C': 1000.0, 'epsilon': 0.001, 'kernel': 'poly'}|       0.29|\n",
      "+------------------------------------------------------------+-----------+\n",
      "|            {'C': 1000.0, 'epsilon': 0.001, 'kernel': 'rbf'}|       0.86|\n",
      "+------------------------------------------------------------+-----------+\n",
      "|           {'C': 1000.0, 'epsilon': 0.1, 'kernel': 'linear'}|       0.36|\n",
      "+------------------------------------------------------------+-----------+\n",
      "|             {'C': 1000.0, 'epsilon': 0.1, 'kernel': 'poly'}|       0.37|\n",
      "+------------------------------------------------------------+-----------+\n",
      "|              {'C': 1000.0, 'epsilon': 0.1, 'kernel': 'rbf'}|       0.87|\n",
      "+------------------------------------------------------------+-----------+\n"
     ]
    }
   ],
   "source": [
    "cross_val = KFold(3)\n",
    "number_of_batch = cross_val.get_n_splits()\n",
    "\n",
    "\n",
    "def varyHyperParams(grid):\n",
    "    scores = dict()\n",
    "    for item in tqdm(grid):\n",
    "        list_of_scores = []\n",
    "        for train_index, test_index in tqdm(cross_val.split(X), \n",
    "                                            total=number_of_batch, leave=False):\n",
    "            x_train_fold = X[train_index]\n",
    "            x_test_fold = X[test_index]\n",
    "            y_train_fold = y[train_index]\n",
    "            y_test_fold = y[test_index]\n",
    "\n",
    "            model = SVR(kernel=item['kernel'],\n",
    "                        C=item['C'],\n",
    "                        epsilon=item['epsilon'])\n",
    "            _ = model.fit(x_train_fold, y_train_fold.ravel())\n",
    "\n",
    "            y_pred_fold = model.predict(x_test_fold)\n",
    "            score = r2_score(y_test_fold, y_pred_fold)\n",
    "            list_of_scores.append(score)\n",
    "        \n",
    "        scores[str(item)] = [np.mean(score_list) for score_list in list_of_scores]\n",
    "    draw_table(scores)\n",
    "\n",
    "grid = ParameterGrid({'kernel': ['linear', 'poly', 'rbf'],\n",
    "                       'C': [1e-3, 1e-1, 1e1, 1e3],\n",
    "                       'epsilon': [1e-3, 1e-1]})\n",
    "varyHyperParams(grid)\n"
   ]
  },
  {
   "cell_type": "markdown",
   "id": "fbeff539-9729-488f-8e06-094fa531467d",
   "metadata": {},
   "source": [
    "Оптимальным кажется выбор параметра kernel: rbf. Попробуем подобрать более подходящие параметры"
   ]
  },
  {
   "cell_type": "code",
   "execution_count": 13,
   "id": "cb03e3a0",
   "metadata": {},
   "outputs": [
    {
     "data": {
      "application/vnd.jupyter.widget-view+json": {
       "model_id": "089cecccda1d49ab909f05c488027930",
       "version_major": 2,
       "version_minor": 0
      },
      "text/plain": [
       "  0%|          | 0/25 [00:00<?, ?it/s]"
      ]
     },
     "metadata": {},
     "output_type": "display_data"
    },
    {
     "data": {
      "application/vnd.jupyter.widget-view+json": {
       "model_id": "",
       "version_major": 2,
       "version_minor": 0
      },
      "text/plain": [
       "  0%|          | 0/3 [00:00<?, ?it/s]"
      ]
     },
     "metadata": {},
     "output_type": "display_data"
    },
    {
     "data": {
      "application/vnd.jupyter.widget-view+json": {
       "model_id": "",
       "version_major": 2,
       "version_minor": 0
      },
      "text/plain": [
       "  0%|          | 0/3 [00:00<?, ?it/s]"
      ]
     },
     "metadata": {},
     "output_type": "display_data"
    },
    {
     "data": {
      "application/vnd.jupyter.widget-view+json": {
       "model_id": "",
       "version_major": 2,
       "version_minor": 0
      },
      "text/plain": [
       "  0%|          | 0/3 [00:00<?, ?it/s]"
      ]
     },
     "metadata": {},
     "output_type": "display_data"
    },
    {
     "data": {
      "application/vnd.jupyter.widget-view+json": {
       "model_id": "",
       "version_major": 2,
       "version_minor": 0
      },
      "text/plain": [
       "  0%|          | 0/3 [00:00<?, ?it/s]"
      ]
     },
     "metadata": {},
     "output_type": "display_data"
    },
    {
     "data": {
      "application/vnd.jupyter.widget-view+json": {
       "model_id": "",
       "version_major": 2,
       "version_minor": 0
      },
      "text/plain": [
       "  0%|          | 0/3 [00:00<?, ?it/s]"
      ]
     },
     "metadata": {},
     "output_type": "display_data"
    },
    {
     "data": {
      "application/vnd.jupyter.widget-view+json": {
       "model_id": "",
       "version_major": 2,
       "version_minor": 0
      },
      "text/plain": [
       "  0%|          | 0/3 [00:00<?, ?it/s]"
      ]
     },
     "metadata": {},
     "output_type": "display_data"
    },
    {
     "data": {
      "application/vnd.jupyter.widget-view+json": {
       "model_id": "",
       "version_major": 2,
       "version_minor": 0
      },
      "text/plain": [
       "  0%|          | 0/3 [00:00<?, ?it/s]"
      ]
     },
     "metadata": {},
     "output_type": "display_data"
    },
    {
     "data": {
      "application/vnd.jupyter.widget-view+json": {
       "model_id": "",
       "version_major": 2,
       "version_minor": 0
      },
      "text/plain": [
       "  0%|          | 0/3 [00:00<?, ?it/s]"
      ]
     },
     "metadata": {},
     "output_type": "display_data"
    },
    {
     "data": {
      "application/vnd.jupyter.widget-view+json": {
       "model_id": "",
       "version_major": 2,
       "version_minor": 0
      },
      "text/plain": [
       "  0%|          | 0/3 [00:00<?, ?it/s]"
      ]
     },
     "metadata": {},
     "output_type": "display_data"
    },
    {
     "data": {
      "application/vnd.jupyter.widget-view+json": {
       "model_id": "",
       "version_major": 2,
       "version_minor": 0
      },
      "text/plain": [
       "  0%|          | 0/3 [00:00<?, ?it/s]"
      ]
     },
     "metadata": {},
     "output_type": "display_data"
    },
    {
     "data": {
      "application/vnd.jupyter.widget-view+json": {
       "model_id": "",
       "version_major": 2,
       "version_minor": 0
      },
      "text/plain": [
       "  0%|          | 0/3 [00:00<?, ?it/s]"
      ]
     },
     "metadata": {},
     "output_type": "display_data"
    },
    {
     "data": {
      "application/vnd.jupyter.widget-view+json": {
       "model_id": "",
       "version_major": 2,
       "version_minor": 0
      },
      "text/plain": [
       "  0%|          | 0/3 [00:00<?, ?it/s]"
      ]
     },
     "metadata": {},
     "output_type": "display_data"
    },
    {
     "data": {
      "application/vnd.jupyter.widget-view+json": {
       "model_id": "",
       "version_major": 2,
       "version_minor": 0
      },
      "text/plain": [
       "  0%|          | 0/3 [00:00<?, ?it/s]"
      ]
     },
     "metadata": {},
     "output_type": "display_data"
    },
    {
     "data": {
      "application/vnd.jupyter.widget-view+json": {
       "model_id": "",
       "version_major": 2,
       "version_minor": 0
      },
      "text/plain": [
       "  0%|          | 0/3 [00:00<?, ?it/s]"
      ]
     },
     "metadata": {},
     "output_type": "display_data"
    },
    {
     "data": {
      "application/vnd.jupyter.widget-view+json": {
       "model_id": "",
       "version_major": 2,
       "version_minor": 0
      },
      "text/plain": [
       "  0%|          | 0/3 [00:00<?, ?it/s]"
      ]
     },
     "metadata": {},
     "output_type": "display_data"
    },
    {
     "data": {
      "application/vnd.jupyter.widget-view+json": {
       "model_id": "",
       "version_major": 2,
       "version_minor": 0
      },
      "text/plain": [
       "  0%|          | 0/3 [00:00<?, ?it/s]"
      ]
     },
     "metadata": {},
     "output_type": "display_data"
    },
    {
     "data": {
      "application/vnd.jupyter.widget-view+json": {
       "model_id": "",
       "version_major": 2,
       "version_minor": 0
      },
      "text/plain": [
       "  0%|          | 0/3 [00:00<?, ?it/s]"
      ]
     },
     "metadata": {},
     "output_type": "display_data"
    },
    {
     "data": {
      "application/vnd.jupyter.widget-view+json": {
       "model_id": "",
       "version_major": 2,
       "version_minor": 0
      },
      "text/plain": [
       "  0%|          | 0/3 [00:00<?, ?it/s]"
      ]
     },
     "metadata": {},
     "output_type": "display_data"
    },
    {
     "data": {
      "application/vnd.jupyter.widget-view+json": {
       "model_id": "",
       "version_major": 2,
       "version_minor": 0
      },
      "text/plain": [
       "  0%|          | 0/3 [00:00<?, ?it/s]"
      ]
     },
     "metadata": {},
     "output_type": "display_data"
    },
    {
     "data": {
      "application/vnd.jupyter.widget-view+json": {
       "model_id": "",
       "version_major": 2,
       "version_minor": 0
      },
      "text/plain": [
       "  0%|          | 0/3 [00:00<?, ?it/s]"
      ]
     },
     "metadata": {},
     "output_type": "display_data"
    },
    {
     "data": {
      "application/vnd.jupyter.widget-view+json": {
       "model_id": "",
       "version_major": 2,
       "version_minor": 0
      },
      "text/plain": [
       "  0%|          | 0/3 [00:00<?, ?it/s]"
      ]
     },
     "metadata": {},
     "output_type": "display_data"
    },
    {
     "data": {
      "application/vnd.jupyter.widget-view+json": {
       "model_id": "",
       "version_major": 2,
       "version_minor": 0
      },
      "text/plain": [
       "  0%|          | 0/3 [00:00<?, ?it/s]"
      ]
     },
     "metadata": {},
     "output_type": "display_data"
    },
    {
     "data": {
      "application/vnd.jupyter.widget-view+json": {
       "model_id": "",
       "version_major": 2,
       "version_minor": 0
      },
      "text/plain": [
       "  0%|          | 0/3 [00:00<?, ?it/s]"
      ]
     },
     "metadata": {},
     "output_type": "display_data"
    },
    {
     "data": {
      "application/vnd.jupyter.widget-view+json": {
       "model_id": "",
       "version_major": 2,
       "version_minor": 0
      },
      "text/plain": [
       "  0%|          | 0/3 [00:00<?, ?it/s]"
      ]
     },
     "metadata": {},
     "output_type": "display_data"
    },
    {
     "data": {
      "application/vnd.jupyter.widget-view+json": {
       "model_id": "",
       "version_major": 2,
       "version_minor": 0
      },
      "text/plain": [
       "  0%|          | 0/3 [00:00<?, ?it/s]"
      ]
     },
     "metadata": {},
     "output_type": "display_data"
    },
    {
     "name": "stdout",
     "output_type": "stream",
     "text": [
      "+------------------------------------------------------------+-----------+\n",
      "|                                                            |   R2_SCORE|\n",
      "+------------------------------------------------------------+-----------+\n",
      "|             {'C': 0.001, 'epsilon': 1e-06, 'kernel': 'rbf'}|       -0.1|\n",
      "+------------------------------------------------------------+-----------+\n",
      "|             {'C': 0.001, 'epsilon': 0.001, 'kernel': 'rbf'}|       -0.1|\n",
      "+------------------------------------------------------------+-----------+\n",
      "|               {'C': 0.001, 'epsilon': 0.1, 'kernel': 'rbf'}|      -0.12|\n",
      "+------------------------------------------------------------+-----------+\n",
      "|              {'C': 0.001, 'epsilon': 10.0, 'kernel': 'rbf'}|       -2.2|\n",
      "+------------------------------------------------------------+-----------+\n",
      "|            {'C': 0.001, 'epsilon': 1000.0, 'kernel': 'rbf'}|       -2.2|\n",
      "+------------------------------------------------------------+-----------+\n",
      "|               {'C': 0.1, 'epsilon': 1e-06, 'kernel': 'rbf'}|       0.12|\n",
      "+------------------------------------------------------------+-----------+\n",
      "|               {'C': 0.1, 'epsilon': 0.001, 'kernel': 'rbf'}|       0.12|\n",
      "+------------------------------------------------------------+-----------+\n",
      "|                 {'C': 0.1, 'epsilon': 0.1, 'kernel': 'rbf'}|        0.1|\n",
      "+------------------------------------------------------------+-----------+\n",
      "|                {'C': 0.1, 'epsilon': 10.0, 'kernel': 'rbf'}|       -2.2|\n",
      "+------------------------------------------------------------+-----------+\n",
      "|              {'C': 0.1, 'epsilon': 1000.0, 'kernel': 'rbf'}|       -2.2|\n",
      "+------------------------------------------------------------+-----------+\n",
      "|              {'C': 10.0, 'epsilon': 1e-06, 'kernel': 'rbf'}|       0.78|\n",
      "+------------------------------------------------------------+-----------+\n",
      "|              {'C': 10.0, 'epsilon': 0.001, 'kernel': 'rbf'}|       0.78|\n",
      "+------------------------------------------------------------+-----------+\n",
      "|                {'C': 10.0, 'epsilon': 0.1, 'kernel': 'rbf'}|       0.79|\n",
      "+------------------------------------------------------------+-----------+\n",
      "|               {'C': 10.0, 'epsilon': 10.0, 'kernel': 'rbf'}|       -2.2|\n",
      "+------------------------------------------------------------+-----------+\n",
      "|             {'C': 10.0, 'epsilon': 1000.0, 'kernel': 'rbf'}|       -2.2|\n",
      "+------------------------------------------------------------+-----------+\n",
      "|             {'C': 500.0, 'epsilon': 1e-06, 'kernel': 'rbf'}|       0.88|\n",
      "+------------------------------------------------------------+-----------+\n",
      "|             {'C': 500.0, 'epsilon': 0.001, 'kernel': 'rbf'}|       0.88|\n",
      "+------------------------------------------------------------+-----------+\n",
      "|               {'C': 500.0, 'epsilon': 0.1, 'kernel': 'rbf'}|        0.9|\n",
      "+------------------------------------------------------------+-----------+\n",
      "|              {'C': 500.0, 'epsilon': 10.0, 'kernel': 'rbf'}|       -2.2|\n",
      "+------------------------------------------------------------+-----------+\n",
      "|            {'C': 500.0, 'epsilon': 1000.0, 'kernel': 'rbf'}|       -2.2|\n",
      "+------------------------------------------------------------+-----------+\n",
      "|            {'C': 1000.0, 'epsilon': 1e-06, 'kernel': 'rbf'}|       0.86|\n",
      "+------------------------------------------------------------+-----------+\n",
      "|            {'C': 1000.0, 'epsilon': 0.001, 'kernel': 'rbf'}|       0.86|\n",
      "+------------------------------------------------------------+-----------+\n",
      "|              {'C': 1000.0, 'epsilon': 0.1, 'kernel': 'rbf'}|       0.87|\n",
      "+------------------------------------------------------------+-----------+\n",
      "|             {'C': 1000.0, 'epsilon': 10.0, 'kernel': 'rbf'}|       -2.2|\n",
      "+------------------------------------------------------------+-----------+\n",
      "|           {'C': 1000.0, 'epsilon': 1000.0, 'kernel': 'rbf'}|       -2.2|\n",
      "+------------------------------------------------------------+-----------+\n"
     ]
    }
   ],
   "source": [
    "grid = ParameterGrid({'kernel': ['rbf'],\n",
    "                      'C': [1e-3, 1e-1, 1e1, 5e2, 1e3],\n",
    "                      'epsilon': [1e-6, 1e-3, 1e-1, 1e1, 1e3]})\n",
    "\n",
    "varyHyperParams(grid)"
   ]
  },
  {
   "cell_type": "markdown",
   "id": "c77d2a61-4e3e-47aa-8e04-97ce3f74deed",
   "metadata": {},
   "source": [
    "Ещё попробуем подобрать параметры C и epsilon"
   ]
  },
  {
   "cell_type": "code",
   "execution_count": 15,
   "id": "2520912a-ff65-4de2-b047-cb1bdf0e78cc",
   "metadata": {},
   "outputs": [
    {
     "data": {
      "application/vnd.jupyter.widget-view+json": {
       "model_id": "a50e910d2c5341ff88f3a17eaef135a7",
       "version_major": 2,
       "version_minor": 0
      },
      "text/plain": [
       "  0%|          | 0/9 [00:00<?, ?it/s]"
      ]
     },
     "metadata": {},
     "output_type": "display_data"
    },
    {
     "data": {
      "application/vnd.jupyter.widget-view+json": {
       "model_id": "",
       "version_major": 2,
       "version_minor": 0
      },
      "text/plain": [
       "  0%|          | 0/3 [00:00<?, ?it/s]"
      ]
     },
     "metadata": {},
     "output_type": "display_data"
    },
    {
     "data": {
      "application/vnd.jupyter.widget-view+json": {
       "model_id": "",
       "version_major": 2,
       "version_minor": 0
      },
      "text/plain": [
       "  0%|          | 0/3 [00:00<?, ?it/s]"
      ]
     },
     "metadata": {},
     "output_type": "display_data"
    },
    {
     "data": {
      "application/vnd.jupyter.widget-view+json": {
       "model_id": "",
       "version_major": 2,
       "version_minor": 0
      },
      "text/plain": [
       "  0%|          | 0/3 [00:00<?, ?it/s]"
      ]
     },
     "metadata": {},
     "output_type": "display_data"
    },
    {
     "data": {
      "application/vnd.jupyter.widget-view+json": {
       "model_id": "",
       "version_major": 2,
       "version_minor": 0
      },
      "text/plain": [
       "  0%|          | 0/3 [00:00<?, ?it/s]"
      ]
     },
     "metadata": {},
     "output_type": "display_data"
    },
    {
     "data": {
      "application/vnd.jupyter.widget-view+json": {
       "model_id": "",
       "version_major": 2,
       "version_minor": 0
      },
      "text/plain": [
       "  0%|          | 0/3 [00:00<?, ?it/s]"
      ]
     },
     "metadata": {},
     "output_type": "display_data"
    },
    {
     "data": {
      "application/vnd.jupyter.widget-view+json": {
       "model_id": "",
       "version_major": 2,
       "version_minor": 0
      },
      "text/plain": [
       "  0%|          | 0/3 [00:00<?, ?it/s]"
      ]
     },
     "metadata": {},
     "output_type": "display_data"
    },
    {
     "data": {
      "application/vnd.jupyter.widget-view+json": {
       "model_id": "",
       "version_major": 2,
       "version_minor": 0
      },
      "text/plain": [
       "  0%|          | 0/3 [00:00<?, ?it/s]"
      ]
     },
     "metadata": {},
     "output_type": "display_data"
    },
    {
     "data": {
      "application/vnd.jupyter.widget-view+json": {
       "model_id": "",
       "version_major": 2,
       "version_minor": 0
      },
      "text/plain": [
       "  0%|          | 0/3 [00:00<?, ?it/s]"
      ]
     },
     "metadata": {},
     "output_type": "display_data"
    },
    {
     "data": {
      "application/vnd.jupyter.widget-view+json": {
       "model_id": "",
       "version_major": 2,
       "version_minor": 0
      },
      "text/plain": [
       "  0%|          | 0/3 [00:00<?, ?it/s]"
      ]
     },
     "metadata": {},
     "output_type": "display_data"
    },
    {
     "name": "stdout",
     "output_type": "stream",
     "text": [
      "+------------------------------------------------------------+-----------+\n",
      "|                                                            |   R2_SCORE|\n",
      "+------------------------------------------------------------+-----------+\n",
      "|                {'C': 300, 'epsilon': 0.05, 'kernel': 'rbf'}|        0.9|\n",
      "+------------------------------------------------------------+-----------+\n",
      "|                 {'C': 300, 'epsilon': 0.1, 'kernel': 'rbf'}|       0.91|\n",
      "+------------------------------------------------------------+-----------+\n",
      "|                {'C': 300, 'epsilon': 0.15, 'kernel': 'rbf'}|        0.9|\n",
      "+------------------------------------------------------------+-----------+\n",
      "|                {'C': 400, 'epsilon': 0.05, 'kernel': 'rbf'}|        0.9|\n",
      "+------------------------------------------------------------+-----------+\n",
      "|                 {'C': 400, 'epsilon': 0.1, 'kernel': 'rbf'}|       0.91|\n",
      "+------------------------------------------------------------+-----------+\n",
      "|                {'C': 400, 'epsilon': 0.15, 'kernel': 'rbf'}|        0.9|\n",
      "+------------------------------------------------------------+-----------+\n",
      "|                {'C': 500, 'epsilon': 0.05, 'kernel': 'rbf'}|        0.9|\n",
      "+------------------------------------------------------------+-----------+\n",
      "|                 {'C': 500, 'epsilon': 0.1, 'kernel': 'rbf'}|        0.9|\n",
      "+------------------------------------------------------------+-----------+\n",
      "|                {'C': 500, 'epsilon': 0.15, 'kernel': 'rbf'}|        0.9|\n",
      "+------------------------------------------------------------+-----------+\n"
     ]
    }
   ],
   "source": [
    "grid = ParameterGrid({'kernel': ['rbf'],\n",
    "                      'C': [300, 400, 500],\n",
    "                      'epsilon': [0.05, 0.1, 0.15]})\n",
    "\n",
    "varyHyperParams(grid)"
   ]
  },
  {
   "cell_type": "markdown",
   "id": "094591ea",
   "metadata": {},
   "source": [
    "Уменьшим диапазон гиперпараметров для нахождения наиболее подходящих."
   ]
  },
  {
   "cell_type": "markdown",
   "id": "a14f96bd",
   "metadata": {},
   "source": [
    "Воспользуемся наилучшим набором гиперпараметров"
   ]
  },
  {
   "cell_type": "code",
   "execution_count": 16,
   "id": "f156f699",
   "metadata": {},
   "outputs": [
    {
     "name": "stdout",
     "output_type": "stream",
     "text": [
      "0.9310921089493871\n"
     ]
    }
   ],
   "source": [
    "kernel='rbf'\n",
    "epsilon=0.1\n",
    "C=400\n",
    "\n",
    "model = SVR(kernel=kernel,\n",
    "            C=C,\n",
    "            epsilon=epsilon,\n",
    "            tol=1e-3)\n",
    "_ = model.fit(X, y.ravel())\n",
    "\n",
    "y_pred = model.predict(X)\n",
    "score = r2_score(y, y_pred)\n",
    "print(score)"
   ]
  },
  {
   "cell_type": "markdown",
   "id": "ca09d278-c7e0-4f2f-9568-57d7f38fa817",
   "metadata": {},
   "source": [
    "Получаем довольно хороший результат"
   ]
  },
  {
   "cell_type": "markdown",
   "id": "a384b2f8-eb98-4c13-b765-593703c9c3ed",
   "metadata": {},
   "source": [
    "### Анализ результатов\n",
    "- Как указывалось авторами датасет сильно нелинейный, поэтому линейная регрессия дает плохие результаты\n",
    "- Наилучшим методом оказался *Perceptron*\n",
    "### Возникшие проблемы\n",
    "- Датасет тяжело визуализировать, возможно пять 3-х мерные графиков это не лучшая идея для такого датасета"
   ]
  }
 ],
 "metadata": {
  "kernelspec": {
   "display_name": "Python 3 (ipykernel)",
   "language": "python",
   "name": "python3"
  },
  "language_info": {
   "codemirror_mode": {
    "name": "ipython",
    "version": 3
   },
   "file_extension": ".py",
   "mimetype": "text/x-python",
   "name": "python",
   "nbconvert_exporter": "python",
   "pygments_lexer": "ipython3",
   "version": "3.11.6"
  }
 },
 "nbformat": 4,
 "nbformat_minor": 5
}
